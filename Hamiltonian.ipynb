{
 "cells": [
  {
   "cell_type": "markdown",
   "metadata": {},
   "source": [
    "<h1 align=\"center\" style=\"color: #4d7f32;\"> calculations </h1>\n",
    " \n",
    "<h2  style=\"color: #rddfd2;\"> Base on Juan Restrepo's paper- 2017 </h2>\n",
    " \n",
    "Title: \"Fully coupled hybrid cavity optomechanics: Quantum interferences and correlations\""
   ]
  },
  {
   "cell_type": "code",
   "execution_count": 9,
   "metadata": {},
   "outputs": [
    {
     "name": "stdout",
     "output_type": "stream",
     "text": [
      " Volume in drive C is OS\n",
      " Volume Serial Number is C0C6-E482\n",
      "\n",
      " Directory of C:\\Users\\Ahmad\\Desktop\\Hybrid-Cavity-System\\Main\n",
      "\n",
      "04/07/2020  21:42            71,886 schematic2.jpg\n",
      "               1 File(s)         71,886 bytes\n",
      "               0 Dir(s)   2,220,773,376 bytes free\n"
     ]
    }
   ],
   "source": [
    "ls *.jpg"
   ]
  },
  {
   "cell_type": "markdown",
   "metadata": {},
   "source": [
    "<img src=\"../images/schematic.jpg\">"
   ]
  },
  {
   "cell_type": "code",
   "execution_count": null,
   "metadata": {},
   "outputs": [],
   "source": []
  }
 ],
 "metadata": {
  "kernelspec": {
   "display_name": "Python 3",
   "language": "python",
   "name": "python3"
  },
  "language_info": {
   "codemirror_mode": {
    "name": "ipython",
    "version": 3
   },
   "file_extension": ".py",
   "mimetype": "text/x-python",
   "name": "python",
   "nbconvert_exporter": "python",
   "pygments_lexer": "ipython3",
   "version": "3.7.3"
  }
 },
 "nbformat": 4,
 "nbformat_minor": 4
}
